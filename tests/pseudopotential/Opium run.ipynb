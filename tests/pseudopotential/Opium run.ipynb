{
 "metadata": {
  "name": ""
 },
 "nbformat": 3,
 "nbformat_minor": 0,
 "worksheets": [
  {
   "cells": [
    {
     "cell_type": "code",
     "collapsed": false,
     "input": [
      "%pylab inline"
     ],
     "language": "python",
     "metadata": {},
     "outputs": [
      {
       "output_type": "stream",
       "stream": "stdout",
       "text": [
        "Populating the interactive namespace from numpy and matplotlib\n"
       ]
      }
     ],
     "prompt_number": 1
    },
    {
     "cell_type": "markdown",
     "metadata": {},
     "source": [
      "Run `opium` for our `Sn` test case:"
     ]
    },
    {
     "cell_type": "code",
     "collapsed": false,
     "input": [
      "!opium sn.param sn.log all rpt"
     ],
     "language": "python",
     "metadata": {},
     "outputs": [],
     "prompt_number": 2
    },
    {
     "cell_type": "markdown",
     "metadata": {},
     "source": [
      "It saves the pseudopotentials into the file:"
     ]
    },
    {
     "cell_type": "code",
     "collapsed": false,
     "input": [
      "!head sn.vs_plt"
     ],
     "language": "python",
     "metadata": {},
     "outputs": [
      {
       "output_type": "stream",
       "stream": "stdout",
       "text": [
        "     2.714417617e-05          4.476987772 0.0\r\n",
        "     2.749935411e-05          4.476987772 0.0\r\n",
        "     2.785917951e-05          4.476987772 0.0\r\n",
        "     2.822371318e-05          4.476987772 0.0\r\n",
        "     2.859301672e-05          4.476987772 0.0\r\n",
        "     2.896715255e-05          4.476987772 0.0\r\n",
        "      2.93461839e-05          4.476987772 0.0\r\n",
        "     2.973017483e-05          4.476987772 0.0\r\n",
        "     3.011919022e-05          4.476987772 0.0\r\n",
        "     3.051329583e-05          4.476987772 0.0\r\n"
       ]
      }
     ],
     "prompt_number": 3
    },
    {
     "cell_type": "markdown",
     "metadata": {},
     "source": [
      "Load the 4 potentials from the file, they are separated using `@`, so we load it to one 3D array `V`:"
     ]
    },
    {
     "cell_type": "code",
     "collapsed": false,
     "input": [
      "t = open(\"sn.vs_plt\").read().split(\"@\")\n",
      "V = []\n",
      "for n in range(4):\n",
      "    V.append(fromstring(t[n], sep=\" \").reshape([-1, 3]))\n",
      "V = array(V)\n",
      "# For the potential number n=0, 1, 2, 3:\n",
      "# R    = V[n, :, 0]\n",
      "# V(R) = V[n, :, 1]\n",
      "# V[n, :, 2] is radius"
     ],
     "language": "python",
     "metadata": {},
     "outputs": [],
     "prompt_number": 4
    },
    {
     "cell_type": "markdown",
     "metadata": {},
     "source": [
      "Check that all radial grids are identical and save it to `R`:"
     ]
    },
    {
     "cell_type": "code",
     "collapsed": false,
     "input": [
      "R = V[0, :, 0]\n",
      "for n in range(1, 4):\n",
      "    assert max(abs(R - V[n, :, 0])) < 1e-12"
     ],
     "language": "python",
     "metadata": {},
     "outputs": [],
     "prompt_number": 5
    },
    {
     "cell_type": "markdown",
     "metadata": {},
     "source": [
      "Plot the first 3 of them:"
     ]
    },
    {
     "cell_type": "code",
     "collapsed": false,
     "input": [
      "for n in range(3):\n",
      "    semilogx(R, V[n, :, 1], label=\"$V_%d$\" % n)\n",
      "legend(loc=\"best\")\n",
      "title(\"Pseudopotentials\")\n",
      "xlabel(\"r [a.u.]\")\n",
      "ylabel(\"V(r) [a.u.]\");"
     ],
     "language": "python",
     "metadata": {},
     "outputs": [
      {
       "metadata": {},
       "output_type": "display_data",
       "png": "[encoded data removed]",
       "text": [
        "<matplotlib.figure.Figure at 0x35adf50>"
       ]
      }
     ],
     "prompt_number": 6
    },
    {
     "cell_type": "markdown",
     "metadata": {},
     "source": [
      "The 4th one is numerically equivalent to the 1st one:"
     ]
    },
    {
     "cell_type": "code",
     "collapsed": false,
     "input": [
      "max(abs(V[0, :, 1] - V[3, :, 1]))"
     ],
     "language": "python",
     "metadata": {},
     "outputs": [
      {
       "metadata": {},
       "output_type": "pyout",
       "prompt_number": 7,
       "text": [
        "1.0800000005417587e-07"
       ]
      }
     ],
     "prompt_number": 7
    },
    {
     "cell_type": "markdown",
     "metadata": {},
     "source": [
      "So we'll just ignore it for now. The first 3 potentials are probably for the `s`, `p` and `d` states."
     ]
    },
    {
     "cell_type": "markdown",
     "metadata": {},
     "source": [
      "## Save pseudopotentials"
     ]
    },
    {
     "cell_type": "code",
     "collapsed": false,
     "input": [
      "savetxt(\"sn-pseudo.txt\", [R, V[0, :, 1], V[1, :, 1], V[2, :, 1]])"
     ],
     "language": "python",
     "metadata": {},
     "outputs": [],
     "prompt_number": 8
    },
    {
     "cell_type": "code",
     "collapsed": false,
     "input": [],
     "language": "python",
     "metadata": {},
     "outputs": [],
     "prompt_number": 8
    }
   ],
   "metadata": {}
  }
 ]
}