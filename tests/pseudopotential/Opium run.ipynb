{
 "metadata": {
  "name": ""
 },
 "nbformat": 3,
 "nbformat_minor": 0,
 "worksheets": [
  {
   "cells": [
    {
     "cell_type": "code",
     "collapsed": false,
     "input": [
      "%pylab inline"
     ],
     "language": "python",
     "metadata": {},
     "outputs": [
      {
       "output_type": "stream",
       "stream": "stdout",
       "text": [
        "Populating the interactive namespace from numpy and matplotlib\n"
       ]
      }
     ],
     "prompt_number": 1
    },
    {
     "cell_type": "markdown",
     "metadata": {},
     "source": [
      "Run `opium` for our `Sn` test case:"
     ]
    },
    {
     "cell_type": "code",
     "collapsed": false,
     "input": [
      "%%file sn.param\n",
      "[Atom]\n",
      "Sn\n",
      "11\n",
      "100 2.00 -\n",
      "200 2.00 -\n",
      "210 6.00 -\n",
      "300 2.00 -\n",
      "310 6.00 -\n",
      "400 2.00 -\n",
      "320 10.0 -\n",
      "410 6.00 -\n",
      "420 10.0 -\n",
      "500 2.00 -\n",
      "510 2.00 -\n",
      "\n",
      "[Pseudo]\n",
      "3 2.0 2.0 2.0\n",
      "tm\n",
      "\n",
      "[XC]\n",
      "lda\n",
      "\n",
      "[Relativity]\n",
      "nrl\n",
      "\n",
      "[Configs]\n",
      "3\n",
      "420 10.0 -\n",
      "500 2.00-\n",
      "510 1.50-\n",
      "#\n",
      "420 10.0 -\n",
      "500 1.50-\n",
      "510 2.50-\n",
      "#\n",
      "420 10.0 -\n",
      "500 1.50-\n",
      "510 2.00-"
     ],
     "language": "python",
     "metadata": {},
     "outputs": [
      {
       "output_type": "stream",
       "stream": "stdout",
       "text": [
        "Writing sn.param\n"
       ]
      }
     ],
     "prompt_number": 2
    },
    {
     "cell_type": "code",
     "collapsed": false,
     "input": [
      "# To plot in xmgrace\n",
      "#!opium sn.param sn.log plot vi"
     ],
     "language": "python",
     "metadata": {},
     "outputs": [],
     "prompt_number": 3
    },
    {
     "cell_type": "code",
     "collapsed": false,
     "input": [
      "!opium sn.param sn.log all rpt"
     ],
     "language": "python",
     "metadata": {},
     "outputs": [],
     "prompt_number": 4
    },
    {
     "cell_type": "markdown",
     "metadata": {},
     "source": [
      "It saves the pseudopotentials into the file:"
     ]
    },
    {
     "cell_type": "code",
     "collapsed": false,
     "input": [
      "!head sn.vi_plt"
     ],
     "language": "python",
     "metadata": {},
     "outputs": [
      {
       "output_type": "stream",
       "stream": "stdout",
       "text": [
        "     2.714417617e-05         -18.58764078 0.0\r\n",
        "     2.749935411e-05         -18.58764078 0.0\r\n",
        "     2.785917951e-05         -18.58764078 0.0\r\n",
        "     2.822371318e-05         -18.58764078 0.0\r\n",
        "     2.859301672e-05         -18.58764078 0.0\r\n",
        "     2.896715255e-05         -18.58764078 0.0\r\n",
        "      2.93461839e-05         -18.58764078 0.0\r\n",
        "     2.973017483e-05         -18.58764078 0.0\r\n",
        "     3.011919022e-05         -18.58764078 0.0\r\n",
        "     3.051329583e-05         -18.58764078 0.0\r\n"
       ]
      }
     ],
     "prompt_number": 5
    },
    {
     "cell_type": "markdown",
     "metadata": {},
     "source": [
      "Load the 4 potentials from the file, they are separated using `@`, so we load it to one 3D array `V`:"
     ]
    },
    {
     "cell_type": "code",
     "collapsed": false,
     "input": [
      "t = open(\"sn.vi_plt\").read().split(\"@\")\n",
      "V = []\n",
      "for n in range(4):\n",
      "    V.append(fromstring(t[n], sep=\" \").reshape([-1, 3]))\n",
      "V = array(V)\n",
      "# For the potential number n=0, 1, 2, 3:\n",
      "# R    = V[n, :, 0]\n",
      "# V(R) = V[n, :, 1]\n",
      "# V[n, :, 2] is radius"
     ],
     "language": "python",
     "metadata": {},
     "outputs": [],
     "prompt_number": 6
    },
    {
     "cell_type": "markdown",
     "metadata": {},
     "source": [
      "Convert Ry to Ha (atomic units):"
     ]
    },
    {
     "cell_type": "code",
     "collapsed": false,
     "input": [
      "for n in range(4):\n",
      "    V[n, :, 1] /= 2"
     ],
     "language": "python",
     "metadata": {},
     "outputs": [],
     "prompt_number": 7
    },
    {
     "cell_type": "markdown",
     "metadata": {},
     "source": [
      "Check that all radial grids are identical and save it to `R`:"
     ]
    },
    {
     "cell_type": "code",
     "collapsed": false,
     "input": [
      "R = V[0, :, 0]\n",
      "for n in range(1, 4):\n",
      "    assert max(abs(R - V[n, :, 0])) < 1e-12"
     ],
     "language": "python",
     "metadata": {},
     "outputs": [],
     "prompt_number": 8
    },
    {
     "cell_type": "markdown",
     "metadata": {},
     "source": [
      "Plot the first 3 of them:"
     ]
    },
    {
     "cell_type": "code",
     "collapsed": false,
     "input": [
      "from scipy.special import erf\n",
      "Vloc = -14*erf(R)/R"
     ],
     "language": "python",
     "metadata": {},
     "outputs": [],
     "prompt_number": 9
    },
    {
     "cell_type": "markdown",
     "metadata": {},
     "source": [
      "All pseudopotentials behave like $-{Z\\over r}$ beyond the cut-off radius:"
     ]
    },
    {
     "cell_type": "code",
     "collapsed": false,
     "input": [
      "for n in range(3):\n",
      "    plot(R, V[n, :, 1], lw=2, label=\"$V_%d$\" % n)\n",
      "title(\"Pseudopotentials\")\n",
      "plot(R, Vloc, \"k-\", label=\"$V_{loc}$\")\n",
      "legend(loc=\"best\")\n",
      "xlim([0, 5])\n",
      "#ylim([-20, 1])\n",
      "xlabel(\"r [a.u.]\")\n",
      "ylabel(\"V(r) [a.u.]\");"
     ],
     "language": "python",
     "metadata": {},
     "outputs": [
      {
       "metadata": {},
       "output_type": "display_data",
       "png": "[encoded data removed]",
       "text": [
        "<matplotlib.figure.Figure at 0x2ff39d0>"
       ]
      }
     ],
     "prompt_number": 10
    },
    {
     "cell_type": "markdown",
     "metadata": {},
     "source": [
      "When we subtract the local part, all pseudopotentials vanish beyond the cut-off radius:"
     ]
    },
    {
     "cell_type": "code",
     "collapsed": false,
     "input": [
      "for n in range(3):\n",
      "    plot(R, V[n, :, 1]-Vloc, lw=2, label=\"$V_%d$\" % n)\n",
      "title(\"Pseudopotentials\")\n",
      "legend(loc=\"best\")\n",
      "xlim([0, 5])\n",
      "#ylim([-20, 1])\n",
      "xlabel(\"r [a.u.]\")\n",
      "ylabel(\"V(r) [a.u.]\");"
     ],
     "language": "python",
     "metadata": {},
     "outputs": [
      {
       "metadata": {},
       "output_type": "display_data",
       "png": "[encoded data removed]",
       "text": [
        "<matplotlib.figure.Figure at 0x3433890>"
       ]
      }
     ],
     "prompt_number": 11
    },
    {
     "cell_type": "markdown",
     "metadata": {},
     "source": [
      "The 4th one is numerically equivalent to the 1st one:"
     ]
    },
    {
     "cell_type": "code",
     "collapsed": false,
     "input": [
      "max(abs(V[0, :, 1] - V[3, :, 1]))"
     ],
     "language": "python",
     "metadata": {},
     "outputs": [
      {
       "metadata": {},
       "output_type": "pyout",
       "prompt_number": 12,
       "text": [
        "515755.11617960996"
       ]
      }
     ],
     "prompt_number": 12
    },
    {
     "cell_type": "markdown",
     "metadata": {},
     "source": [
      "It's just the local part, we can ignore it. The first 3 potentials are the $s$, $p$ and $d$ $l$-dependent pseudopotentials."
     ]
    },
    {
     "cell_type": "markdown",
     "metadata": {},
     "source": [
      "## Save pseudopotentials"
     ]
    },
    {
     "cell_type": "markdown",
     "metadata": {},
     "source": [
      "We save all pseudopotentials into a file in a simple way, so that we can easily read it from Fortran:"
     ]
    },
    {
     "cell_type": "code",
     "collapsed": false,
     "input": [
      "savetxt(\"sn-pseudo.txt\", [R, V[0, :, 1], V[1, :, 1], V[2, :, 1]])"
     ],
     "language": "python",
     "metadata": {},
     "outputs": [],
     "prompt_number": 13
    },
    {
     "cell_type": "code",
     "collapsed": false,
     "input": [],
     "language": "python",
     "metadata": {},
     "outputs": [],
     "prompt_number": 13
    }
   ],
   "metadata": {}
  }
 ]
}